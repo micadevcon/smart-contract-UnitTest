{
 "cells": [
  {
   "cell_type": "markdown",
   "metadata": {},
   "source": [
    "1) Unit тесты (тесты для функций создания игры, коммита и раскрытия хода, определения победителя)"
   ]
  },
  {
   "cell_type": "code",
   "execution_count": null,
   "metadata": {},
   "outputs": [],
   "source": [
    "const { expect } = require(\"chai\");\n",
    "\n",
    "describe(\"RockPaperScissors\", function () {\n",
    "    let RockPaperScissors, rps, player1, player2;\n",
    "\n",
    "    // Перед каждым тестом разворачиваем новый контракт и получаем ссылки на тестовые аккаунты\n",
    "    beforeEach(async function () {\n",
    "        RockPaperScissors = await ethers.getContractFactory(\"RockPaperScissors\"); // Получаем контракт для деплоя\n",
    "        [player1, player2] = await ethers.getSigners(); // Получаем два аккаунта для тестирования\n",
    "        rps = await RockPaperScissors.deploy(); // Разворачиваем контракт\n",
    "        await rps.deployed(); // Дожидаемся завершения деплоя\n",
    "    });\n",
    "\n",
    "    // Тестируем создание новой игры\n",
    "    it(\"Should create a game\", async function () {\n",
    "        const wager = ethers.utils.parseEther(\"1\"); // Устанавливаем ставку в 1 ETH\n",
    "        await rps.connect(player1).createGame(player2.address, { value: wager }); // Создаем игру от имени player1 с передачей ставки\n",
    "\n",
    "        const game = await rps.games(1); // Получаем данные о созданной игре\n",
    "\n",
    "        // Проверяем, что данные игры соответствуют ожидаемым значениям\n",
    "        expect(game.player1).to.equal(player1.address);\n",
    "        expect(game.player2).to.equal(player2.address);\n",
    "        expect(game.wager).to.equal(wager);\n",
    "        expect(game.isActive).to.be.true;\n",
    "    });\n",
    "\n",
    "    // Тестируем коммит хода\n",
    "    it(\"Should commit a move\", async function () {\n",
    "        const wager = ethers.utils.parseEther(\"1\"); // Устанавливаем ставку\n",
    "        await rps.connect(player1).createGame(player2.address, { value: wager }); // Создаем игру\n",
    "\n",
    "        // Создаем хеш от хода и \"соли\" (секретного значения)\n",
    "        const commitment = ethers.utils.keccak256(ethers.utils.toUtf8Bytes(\"Rock|secret\"));\n",
    "\n",
    "        await rps.connect(player1).commitMove(1, commitment); // Игрок 1 делает коммит хода\n",
    "        const game = await rps.games(1); // Получаем данные о игре\n",
    "\n",
    "        expect(game.player1Commit).to.equal(commitment); // Проверяем, что коммит записан\n",
    "    });\n",
    "\n",
    "    // Тестируем раскрытие хода и определение победителя\n",
    "    it(\"Should reveal a move and determine a winner\", async function () {\n",
    "        const wager = ethers.utils.parseEther(\"1\"); // Устанавливаем ставку\n",
    "        await rps.connect(player1).createGame(player2.address, { value: wager }); // Создаем игру\n",
    "        \n",
    "        // Создаем коммиты для двух игроков\n",
    "        const commitment1 = ethers.utils.keccak256(ethers.utils.toUtf8Bytes(\"Rock|secret1\"));\n",
    "        const commitment2 = ethers.utils.keccak256(ethers.utils.toUtf8Bytes(\"Scissors|secret2\"));\n",
    "        \n",
    "        // Игроки делают коммиты своих ходов\n",
    "        await rps.connect(player1).commitMove(1, commitment1);\n",
    "        await rps.connect(player2).commitMove(1, commitment2);\n",
    "\n",
    "        // Игроки раскрывают свои ходы\n",
    "        await rps.connect(player1).revealMove(1, 1, \"secret1\"); // Игрок 1 раскрывает \"Камень\"\n",
    "        await rps.connect(player2).revealMove(1, 3, \"secret2\"); // Игрок 2 раскрывает \"Ножницы\"\n",
    "\n",
    "        const game = await rps.games(1);\n",
    "        expect(game.isActive).to.be.false; // Проверяем, что игра завершена\n",
    "    });\n",
    "});\n"
   ]
  },
  {
   "cell_type": "markdown",
   "metadata": {},
   "source": [
    "2) Вспомогательный контракт для вызова метода из RockPaperScissors"
   ]
  },
  {
   "cell_type": "code",
   "execution_count": null,
   "metadata": {},
   "outputs": [],
   "source": [
    "// SPDX-License-Identifier: MIT\n",
    "pragma solidity ^0.8.0;\n",
    "\n",
    "// Интерфейс для взаимодействия с контрактом RockPaperScissors\n",
    "interface IRockPaperScissors {\n",
    "    function createGame(address opponent) external payable;\n",
    "}\n",
    "\n",
    "contract GameStarter {\n",
    "    IRockPaperScissors public rps;\n",
    "\n",
    "    // Конструктор получает адрес основного контракта RockPaperScissors\n",
    "    constructor(address _rpsAddress) {\n",
    "        rps = IRockPaperScissors(_rpsAddress); // Сохраняем ссылку на основной контракт\n",
    "    }\n",
    "\n",
    "    // Функция для создания новой игры через основной контракт\n",
    "    function startNewGame(address opponent) external payable {\n",
    "        require(msg.value > 0, \"Wager must be greater than 0.\"); // Проверяем, что ставка больше 0\n",
    "        rps.createGame{value: msg.value}(opponent); // Вызываем функцию создания игры в основном контракте\n",
    "    }\n",
    "}\n"
   ]
  },
  {
   "cell_type": "markdown",
   "metadata": {},
   "source": [
    "3) Интеграционные тесты для межконтрактного взаимодействия"
   ]
  },
  {
   "cell_type": "code",
   "execution_count": null,
   "metadata": {},
   "outputs": [],
   "source": [
    "describe(\"GameStarter with RockPaperScissors\", function () {\n",
    "    let RockPaperScissors, GameStarter, rps, gameStarter, player1, player2;\n",
    "\n",
    "    // Перед каждым тестом развернем новые экземпляры контрактов и получим аккаунты\n",
    "    beforeEach(async function () {\n",
    "        RockPaperScissors = await ethers.getContractFactory(\"RockPaperScissors\");\n",
    "        GameStarter = await ethers.getContractFactory(\"GameStarter\");\n",
    "        [player1, player2] = await ethers.getSigners();\n",
    "\n",
    "        rps = await RockPaperScissors.deploy(); // Деплой основного контракта\n",
    "        await rps.deployed();\n",
    "\n",
    "        gameStarter = await GameStarter.deploy(rps.address); // Деплой вспомогательного контракта\n",
    "        await gameStarter.deployed();\n",
    "    });\n",
    "\n",
    "    // Тестируем создание игры через вспомогательный контракт GameStarter\n",
    "    it(\"Should start a new game via GameStarter\", async function () {\n",
    "        const wager = ethers.utils.parseEther(\"1\"); // Устанавливаем ставку\n",
    "        await gameStarter.connect(player1).startNewGame(player2.address, { value: wager }); // Создаем игру через вспомогательный контракт\n",
    "\n",
    "        const game = await rps.games(1); // Проверяем данные о созданной игре в основном контракте\n",
    "\n",
    "        // Проверяем, что данные совпадают с ожидаемыми\n",
    "        expect(game.player1).to.equal(player1.address);\n",
    "        expect(game.player2).to.equal(player2.address);\n",
    "        expect(game.wager).to.equal(wager);\n",
    "    });\n",
    "});\n"
   ]
  },
  {
   "cell_type": "markdown",
   "metadata": {},
   "source": [
    "4) Актуальное состояние индустрии в области создания формальных спецификаций и проведения формальных проверок  смарт-контрактов"
   ]
  },
  {
   "cell_type": "markdown",
   "metadata": {},
   "source": [
    "Формальные спецификации\n",
    "\n",
    "Формальная спецификация — это точное математическое описание логики программы. Для смарт-контрактов, работающих с цифровыми активами, она помогает минимизировать ошибки и повысить безопасность. Основные инструменты для создания формальных спецификаций включают:\n",
    "\n",
    "TLA+: язык для описания и моделирования параллельных и распределенных систем, применяемый к сложной логике смарт-контрактов.\n",
    "Coq и Isabelle: интерактивные доказательные системы для написания спецификаций и их доказательств, гарантируя соответствие кода строгим требованиям.\n",
    "K Framework: инструмент для создания формальных спецификаций языков программирования и анализа семантики, часто используемый для языка Solidity.\n",
    "\n",
    "Формальная верификация\n",
    "\n",
    "Формальная верификация — процесс математического доказательства соответствия программы спецификации. Для смарт-контрактов это включает проверку безопасности и отсутствие уязвимостей, таких как переполнения или атаки с повторным вызовом (reentrancy). Основные инструменты:\n",
    "\n",
    "SMTChecker: встроен в компилятор Solidity, использует теории и ограничения для автоматического доказательства свойств, например, защиты от переполнений.\n",
    "Certora Prover: коммерческий инструмент для проверки пользовательских условий и свойств, применяемый для верификации логики управления и токенов ERC20.\n",
    "MythX и Slither: инструменты статического анализа, находящие типичные ошибки и уязвимости.\n",
    "VerX: инструмент для проверки временных свойств смарт-контрактов, позволяющий проверять последовательность выполнения условий и операций.\n",
    "Сложности и задачи\n",
    "Формальная верификация требует глубоких знаний и значительных усилий. Ключевые сложности:\n",
    "\n",
    "Сложность математики и логики: написание спецификаций и доказательств требует знаний в области формальных методов.\n",
    "Трудоемкость: процесс требует времени, особенно при создании доказательств для крупных систем.\n",
    "Изменяющаяся экосистема: развитие Solidity и блокчейна требует регулярной адаптации формальных методов."
   ]
  }
 ],
 "metadata": {
  "language_info": {
   "name": "python"
  }
 },
 "nbformat": 4,
 "nbformat_minor": 2
}
